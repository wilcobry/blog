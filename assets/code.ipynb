{
 "cells": [
  {
   "cell_type": "code",
   "execution_count": 2,
   "metadata": {},
   "outputs": [],
   "source": [
    "import pandas as pd\n",
    "import statsmodels.api as sm"
   ]
  },
  {
   "cell_type": "code",
   "execution_count": 8,
   "metadata": {},
   "outputs": [
    {
     "name": "stdout",
     "output_type": "stream",
     "text": [
      "   YearsExperience   Salary\n",
      "0              1.2  39344.0\n",
      "1              1.4  46206.0\n",
      "2              1.6  37732.0\n",
      "3              2.1  43526.0\n",
      "4              2.3  39892.0\n"
     ]
    }
   ],
   "source": [
    "df = pd.read_csv('Data/Salary_dataset.csv')\n",
    "df = df.drop(df.columns[0], axis=1)\n",
    "print(df.head())"
   ]
  },
  {
   "cell_type": "code",
   "execution_count": 11,
   "metadata": {},
   "outputs": [],
   "source": [
    "experience = df['YearsExperience']\n",
    "salary = df['Salary']\n",
    "\n",
    "experience = sm.add_constant(experience)"
   ]
  },
  {
   "cell_type": "code",
   "execution_count": 20,
   "metadata": {},
   "outputs": [
    {
     "name": "stdout",
     "output_type": "stream",
     "text": [
      "                            OLS Regression Results                            \n",
      "==============================================================================\n",
      "Dep. Variable:                 Salary   R-squared:                       0.957\n",
      "Model:                            OLS   Adj. R-squared:                  0.955\n",
      "Method:                 Least Squares   F-statistic:                     622.5\n",
      "Date:                Fri, 04 Oct 2024   Prob (F-statistic):           1.14e-20\n",
      "Time:                        16:03:27   Log-Likelihood:                -301.44\n",
      "No. Observations:                  30   AIC:                             606.9\n",
      "Df Residuals:                      28   BIC:                             609.7\n",
      "Df Model:                           1                                         \n",
      "Covariance Type:            nonrobust                                         \n",
      "===================================================================================\n",
      "                      coef    std err          t      P>|t|      [0.025      0.975]\n",
      "-----------------------------------------------------------------------------------\n",
      "const            2.485e+04   2306.654     10.772      0.000    2.01e+04    2.96e+04\n",
      "YearsExperience  9449.9623    378.755     24.950      0.000    8674.119    1.02e+04\n",
      "==============================================================================\n",
      "Omnibus:                        2.140   Durbin-Watson:                   1.648\n",
      "Prob(Omnibus):                  0.343   Jarque-Bera (JB):                1.569\n",
      "Skew:                           0.363   Prob(JB):                        0.456\n",
      "Kurtosis:                       2.147   Cond. No.                         13.6\n",
      "==============================================================================\n",
      "\n",
      "Notes:\n",
      "[1] Standard Errors assume that the covariance matrix of the errors is correctly specified.\n"
     ]
    }
   ],
   "source": [
    "model = sm.OLS(salary, experience)\n",
    "results = model.fit()\n",
    "\n",
    "print(results.summary())\n",
    "html_table = results.summary().as_html()\n",
    "with open(\"regression_table.html\", \"w\") as f:\n",
    "    f.write(html_table)"
   ]
  }
 ],
 "metadata": {
  "kernelspec": {
   "display_name": "classesnew",
   "language": "python",
   "name": "python3"
  },
  "language_info": {
   "codemirror_mode": {
    "name": "ipython",
    "version": 3
   },
   "file_extension": ".py",
   "mimetype": "text/x-python",
   "name": "python",
   "nbconvert_exporter": "python",
   "pygments_lexer": "ipython3",
   "version": "3.12.5"
  }
 },
 "nbformat": 4,
 "nbformat_minor": 2
}
